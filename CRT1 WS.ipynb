{
 "cells": [
  {
   "cell_type": "markdown",
   "metadata": {},
   "source": [
    "#### MSC Financial  Engineering\n",
    "##### Course 02: Financial Engineering\n",
    "##### Module 02-CRT1"
   ]
  },
  {
   "cell_type": "markdown",
   "metadata": {},
   "source": [
    "#### Question 1\n",
    "Portfolio D: A $100 mortgage with two years remaining and 8 payments remaining. The interest is 3% annual interest. Assume the interest is the same amount for each quarter (does NOT depend on the number of days). Mortgage payments are quarterly.\n"
   ]
  },
  {
   "cell_type": "code",
   "execution_count": 4,
   "metadata": {},
   "outputs": [
    {
     "name": "stdout",
     "output_type": "stream",
     "text": [
      "The Quarterly Payment will be: $12.93\n"
     ]
    }
   ],
   "source": [
    "import pandas as pd\n",
    "import numpy as np\n",
    "# Define the known values for the mortgage calculation\n",
    "PV = 100          # Present value of the loan (mortgage)\n",
    "i = 0.0075        # Quarterly interest rate\n",
    "n = 8             # Number of remaining payments\n",
    "\n",
    "# Calculate the quarterly payment using the annuity formula\n",
    "P = (i * PV) / (1 - (1 + i)**-n)\n",
    "print(f\"The Quarterly Payment will be: ${P:.2f}\")\n"
   ]
  },
  {
   "cell_type": "markdown",
   "metadata": {},
   "source": [
    "##### Loan Amortazation Table"
   ]
  },
  {
   "cell_type": "code",
   "execution_count": 6,
   "metadata": {},
   "outputs": [],
   "source": [
    "# Calculate the amortization schedule\n",
    "remaining_balance = PV\n",
    "amortization_schedule = []\n",
    "\n",
    "for quarter in range(1, n+1):\n",
    "    interest_paid = remaining_balance * i\n",
    "    principal_paid = P - interest_paid\n",
    "    remaining_balance -= principal_paid\n",
    "    \n",
    "    amortization_schedule.append({\n",
    "        \"Quarter\": quarter,\n",
    "        \"Payment\": round(P, 2),\n",
    "        \"Interest Paid\": round(interest_paid, 2),\n",
    "        \"Principal Paid\": round(principal_paid, 2),\n",
    "        \"Remaining Balance\": round(remaining_balance, 2)\n",
    "    })\n",
    "\n",
    "amortization_schedule_df = pd.DataFrame(amortization_schedule)\n"
   ]
  },
  {
   "cell_type": "code",
   "execution_count": 7,
   "metadata": {},
   "outputs": [
    {
     "data": {
      "text/html": [
       "<div>\n",
       "<style scoped>\n",
       "    .dataframe tbody tr th:only-of-type {\n",
       "        vertical-align: middle;\n",
       "    }\n",
       "\n",
       "    .dataframe tbody tr th {\n",
       "        vertical-align: top;\n",
       "    }\n",
       "\n",
       "    .dataframe thead th {\n",
       "        text-align: right;\n",
       "    }\n",
       "</style>\n",
       "<table border=\"1\" class=\"dataframe\">\n",
       "  <thead>\n",
       "    <tr style=\"text-align: right;\">\n",
       "      <th></th>\n",
       "      <th>Quarter</th>\n",
       "      <th>Payment</th>\n",
       "      <th>Interest Paid</th>\n",
       "      <th>Principal Paid</th>\n",
       "      <th>Remaining Balance</th>\n",
       "    </tr>\n",
       "  </thead>\n",
       "  <tbody>\n",
       "    <tr>\n",
       "      <th>0</th>\n",
       "      <td>1</td>\n",
       "      <td>12.93</td>\n",
       "      <td>0.75</td>\n",
       "      <td>12.18</td>\n",
       "      <td>87.82</td>\n",
       "    </tr>\n",
       "    <tr>\n",
       "      <th>1</th>\n",
       "      <td>2</td>\n",
       "      <td>12.93</td>\n",
       "      <td>0.66</td>\n",
       "      <td>12.27</td>\n",
       "      <td>75.56</td>\n",
       "    </tr>\n",
       "    <tr>\n",
       "      <th>2</th>\n",
       "      <td>3</td>\n",
       "      <td>12.93</td>\n",
       "      <td>0.57</td>\n",
       "      <td>12.36</td>\n",
       "      <td>63.20</td>\n",
       "    </tr>\n",
       "    <tr>\n",
       "      <th>3</th>\n",
       "      <td>4</td>\n",
       "      <td>12.93</td>\n",
       "      <td>0.47</td>\n",
       "      <td>12.45</td>\n",
       "      <td>50.75</td>\n",
       "    </tr>\n",
       "    <tr>\n",
       "      <th>4</th>\n",
       "      <td>5</td>\n",
       "      <td>12.93</td>\n",
       "      <td>0.38</td>\n",
       "      <td>12.54</td>\n",
       "      <td>38.20</td>\n",
       "    </tr>\n",
       "    <tr>\n",
       "      <th>5</th>\n",
       "      <td>6</td>\n",
       "      <td>12.93</td>\n",
       "      <td>0.29</td>\n",
       "      <td>12.64</td>\n",
       "      <td>25.56</td>\n",
       "    </tr>\n",
       "    <tr>\n",
       "      <th>6</th>\n",
       "      <td>7</td>\n",
       "      <td>12.93</td>\n",
       "      <td>0.19</td>\n",
       "      <td>12.73</td>\n",
       "      <td>12.83</td>\n",
       "    </tr>\n",
       "    <tr>\n",
       "      <th>7</th>\n",
       "      <td>8</td>\n",
       "      <td>12.93</td>\n",
       "      <td>0.10</td>\n",
       "      <td>12.83</td>\n",
       "      <td>0.00</td>\n",
       "    </tr>\n",
       "  </tbody>\n",
       "</table>\n",
       "</div>"
      ],
      "text/plain": [
       "   Quarter  Payment  Interest Paid  Principal Paid  Remaining Balance\n",
       "0        1    12.93           0.75           12.18              87.82\n",
       "1        2    12.93           0.66           12.27              75.56\n",
       "2        3    12.93           0.57           12.36              63.20\n",
       "3        4    12.93           0.47           12.45              50.75\n",
       "4        5    12.93           0.38           12.54              38.20\n",
       "5        6    12.93           0.29           12.64              25.56\n",
       "6        7    12.93           0.19           12.73              12.83\n",
       "7        8    12.93           0.10           12.83               0.00"
      ]
     },
     "execution_count": 7,
     "metadata": {},
     "output_type": "execute_result"
    }
   ],
   "source": [
    "amortization_schedule_df"
   ]
  },
  {
   "cell_type": "code",
   "execution_count": null,
   "metadata": {},
   "outputs": [],
   "source": []
  }
 ],
 "metadata": {
  "kernelspec": {
   "display_name": "WorldQuantProjects",
   "language": "python",
   "name": "python3"
  },
  "language_info": {
   "codemirror_mode": {
    "name": "ipython",
    "version": 3
   },
   "file_extension": ".py",
   "mimetype": "text/x-python",
   "name": "python",
   "nbconvert_exporter": "python",
   "pygments_lexer": "ipython3",
   "version": "3.12.3"
  }
 },
 "nbformat": 4,
 "nbformat_minor": 2
}
